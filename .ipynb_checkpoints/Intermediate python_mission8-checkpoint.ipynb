{
 "cells": [
  {
   "cell_type": "markdown",
   "metadata": {},
   "source": [
    "# Welcome\n",
    "This is mission 8 from dataquest : https://www.dataquest.io/mission/8/introduction-to-pandas"
   ]
  },
  {
   "cell_type": "markdown",
   "metadata": {},
   "source": [
    "#### Import the pandas library.\n",
    "#### Use the pandas.read_csv() function to read the file \"food_info.csv\" into a dataframe named food_info.\n",
    "#### Use the type() and print() functions to display the type of food_info to confirm that it's a dataframe object."
   ]
  },
  {
   "cell_type": "code",
   "execution_count": 1,
   "metadata": {
    "collapsed": false
   },
   "outputs": [
    {
     "name": "stdout",
     "output_type": "stream",
     "text": [
      "<class 'pandas.core.frame.DataFrame'>\n"
     ]
    }
   ],
   "source": [
    "import pandas\n",
    "\n",
    "food_info = pandas.read_csv(\"food_info.csv\")\n",
    "\n",
    "print(type(food_info))\n",
    "\n",
    "#print(open(\"food_info.csv\",\"r\").read())"
   ]
  },
  {
   "cell_type": "markdown",
   "metadata": {},
   "source": [
    "#### Select the first 20 rows from food_info and assign to the variable first_twenty."
   ]
  },
  {
   "cell_type": "code",
   "execution_count": 2,
   "metadata": {
    "collapsed": false
   },
   "outputs": [
    {
     "name": "stdout",
     "output_type": "stream",
     "text": [
      "(554, 36)\n",
      "554\n",
      "36\n",
      "    NDB_No                                         Shrt_Desc  Water_(g)  \\\n",
      "0     1001                                  BUTTER WITH SALT      15.87   \n",
      "1     1002                          BUTTER WHIPPED WITH SALT      15.87   \n",
      "2     1003                              BUTTER OIL ANHYDROUS       0.24   \n",
      "3     1004                                       CHEESE BLUE      42.41   \n",
      "4     1005                                      CHEESE BRICK      41.11   \n",
      "5     1006                                       CHEESE BRIE      48.42   \n",
      "6     1007                                  CHEESE CAMEMBERT      51.80   \n",
      "7     1008                                    CHEESE CARAWAY      39.28   \n",
      "8     1009                                    CHEESE CHEDDAR      37.10   \n",
      "9     1010                                   CHEESE CHESHIRE      37.65   \n",
      "10    1011                                      CHEESE COLBY      38.20   \n",
      "11    1012               CHEESE COTTAGE CRMD LRG OR SML CURD      79.79   \n",
      "12    1013                       CHEESE COTTAGE CRMD W/FRUIT      79.64   \n",
      "13    1014  CHEESE COTTAGE NONFAT UNCRMD DRY LRG OR SML CURD      81.01   \n",
      "14    1015                  CHEESE COTTAGE LOWFAT 2% MILKFAT      81.24   \n",
      "15    1016                  CHEESE COTTAGE LOWFAT 1% MILKFAT      82.48   \n",
      "16    1017                                      CHEESE CREAM      54.44   \n",
      "17    1018                                       CHEESE EDAM      41.56   \n",
      "18    1019                                       CHEESE FETA      55.22   \n",
      "19    1020                                    CHEESE FONTINA      37.92   \n",
      "\n",
      "    Energ_Kcal  Protein_(g)  Lipid_Tot_(g)  Ash_(g)  Carbohydrt_(g)  \\\n",
      "0          717         0.85          81.11     2.11            0.06   \n",
      "1          717         0.85          81.11     2.11            0.06   \n",
      "2          876         0.28          99.48     0.00            0.00   \n",
      "3          353        21.40          28.74     5.11            2.34   \n",
      "4          371        23.24          29.68     3.18            2.79   \n",
      "5          334        20.75          27.68     2.70            0.45   \n",
      "6          300        19.80          24.26     3.68            0.46   \n",
      "7          376        25.18          29.20     3.28            3.06   \n",
      "8          406        24.04          33.82     3.71            1.33   \n",
      "9          387        23.37          30.60     3.60            4.78   \n",
      "10         394        23.76          32.11     3.36            2.57   \n",
      "11          98        11.12           4.30     1.41            3.38   \n",
      "12          97        10.69           3.85     1.20            4.61   \n",
      "13          72        10.34           0.29     1.71            6.66   \n",
      "14          81        10.45           2.27     1.27            4.76   \n",
      "15          72        12.39           1.02     1.39            2.72   \n",
      "16         342         5.93          34.24     1.32            4.07   \n",
      "17         357        24.99          27.80     4.22            1.43   \n",
      "18         264        14.21          21.28     5.20            4.09   \n",
      "19         389        25.60          31.14     3.79            1.55   \n",
      "\n",
      "    Fiber_TD_(g)  Sugar_Tot_(g)       ...        Vit_A_IU  Vit_A_RAE  \\\n",
      "0            0.0           0.06       ...          2499.0      684.0   \n",
      "1            0.0           0.06       ...          2499.0      684.0   \n",
      "2            0.0           0.00       ...          3069.0      840.0   \n",
      "3            0.0           0.50       ...           721.0      198.0   \n",
      "4            0.0           0.51       ...          1080.0      292.0   \n",
      "5            0.0           0.45       ...           592.0      174.0   \n",
      "6            0.0           0.46       ...           820.0      241.0   \n",
      "7            0.0            NaN       ...          1054.0      271.0   \n",
      "8            0.0           0.28       ...           994.0      263.0   \n",
      "9            0.0            NaN       ...           985.0      233.0   \n",
      "10           0.0           0.52       ...           994.0      264.0   \n",
      "11           0.0           2.67       ...           140.0       37.0   \n",
      "12           0.2           2.38       ...           146.0       38.0   \n",
      "13           0.0           1.85       ...             8.0        2.0   \n",
      "14           0.0           4.00       ...           225.0       68.0   \n",
      "15           0.0           2.72       ...            41.0       11.0   \n",
      "16           0.0           3.21       ...          1343.0      366.0   \n",
      "17           0.0           1.43       ...           825.0      243.0   \n",
      "18           0.0           4.09       ...           422.0      125.0   \n",
      "19           0.0           1.55       ...           913.0      261.0   \n",
      "\n",
      "    Vit_E_(mg)  Vit_D_mcg  Vit_D_IU  Vit_K_(mcg)  FA_Sat_(g)  FA_Mono_(g)  \\\n",
      "0         2.32        1.5      60.0          7.0      51.368       21.021   \n",
      "1         2.32        1.5      60.0          7.0      50.489       23.426   \n",
      "2         2.80        1.8      73.0          8.6      61.924       28.732   \n",
      "3         0.25        0.5      21.0          2.4      18.669        7.778   \n",
      "4         0.26        0.5      22.0          2.5      18.764        8.598   \n",
      "5         0.24        0.5      20.0          2.3      17.410        8.013   \n",
      "6         0.21        0.4      18.0          2.0      15.259        7.023   \n",
      "7          NaN        NaN       NaN          NaN      18.584        8.275   \n",
      "8         0.78        0.6      24.0          2.9      19.368        8.428   \n",
      "9          NaN        NaN       NaN          NaN      19.475        8.671   \n",
      "10        0.28        0.6      24.0          2.7      20.218        9.280   \n",
      "11        0.08        0.1       3.0          0.0       1.718        0.778   \n",
      "12        0.04        0.0       0.0          0.4       2.311        1.036   \n",
      "13        0.01        0.0       0.0          0.0       0.169        0.079   \n",
      "14        0.08        0.0       0.0          0.0       1.235        0.516   \n",
      "15        0.01        0.0       0.0          0.1       0.645        0.291   \n",
      "16        0.29        0.6      25.0          2.9      19.292        8.620   \n",
      "17        0.24        0.5      20.0          2.3      17.572        8.125   \n",
      "18        0.18        0.4      16.0          1.8      14.946        4.623   \n",
      "19        0.27        0.6      23.0          2.6      19.196        8.687   \n",
      "\n",
      "    FA_Poly_(g)  Cholestrl_(mg)  \n",
      "0         3.043           215.0  \n",
      "1         3.012           219.0  \n",
      "2         3.694           256.0  \n",
      "3         0.800            75.0  \n",
      "4         0.784            94.0  \n",
      "5         0.826           100.0  \n",
      "6         0.724            72.0  \n",
      "7         0.830            93.0  \n",
      "8         1.433           102.0  \n",
      "9         0.870           103.0  \n",
      "10        0.953            95.0  \n",
      "11        0.123            17.0  \n",
      "12        0.124            13.0  \n",
      "13        0.003             7.0  \n",
      "14        0.083            12.0  \n",
      "15        0.031             4.0  \n",
      "16        1.437           110.0  \n",
      "17        0.665            89.0  \n",
      "18        0.591            89.0  \n",
      "19        1.654           116.0  \n",
      "\n",
      "[20 rows x 36 columns]\n"
     ]
    }
   ],
   "source": [
    "#print(food_info.head(3))\n",
    "dimensions = food_info.shape\n",
    "print(dimensions)\n",
    "num_rows = dimensions[0]\n",
    "print(num_rows)\n",
    "num_cols = dimensions[1]\n",
    "print(num_cols)\n",
    "\n",
    "first_twenty = food_info.head(20)\n",
    "print(first_twenty)"
   ]
  },
  {
   "cell_type": "markdown",
   "metadata": {},
   "source": [
    "#### Assign the 100th row of food_info to the variable hundredth_row.\n",
    "#### Display hundredth_row using the print() function."
   ]
  },
  {
   "cell_type": "code",
   "execution_count": 3,
   "metadata": {
    "collapsed": false
   },
   "outputs": [
    {
     "name": "stdout",
     "output_type": "stream",
     "text": [
      "NDB_No                                  1111\n",
      "Shrt_Desc          MILK SHAKES THICK VANILLA\n",
      "Water_(g)                              74.45\n",
      "Energ_Kcal                               112\n",
      "Protein_(g)                             3.86\n",
      "Lipid_Tot_(g)                           3.03\n",
      "Ash_(g)                                 0.91\n",
      "Carbohydrt_(g)                         17.75\n",
      "Fiber_TD_(g)                               0\n",
      "Sugar_Tot_(g)                          17.75\n",
      "Calcium_(mg)                             146\n",
      "Iron_(mg)                                0.1\n",
      "Magnesium_(mg)                            12\n",
      "Phosphorus_(mg)                          115\n",
      "Potassium_(mg)                           183\n",
      "Sodium_(mg)                               95\n",
      "Zinc_(mg)                               0.39\n",
      "Copper_(mg)                            0.051\n",
      "Manganese_(mg)                         0.014\n",
      "Selenium_(mcg)                           2.3\n",
      "Vit_C_(mg)                                 0\n",
      "Thiamin_(mg)                            0.03\n",
      "Riboflavin_(mg)                        0.195\n",
      "Niacin_(mg)                            0.146\n",
      "Vit_B6_(mg)                            0.042\n",
      "Vit_B12_(mcg)                           0.52\n",
      "Vit_A_IU                                  91\n",
      "Vit_A_RAE                                 25\n",
      "Vit_E_(mg)                              0.05\n",
      "Vit_D_mcg                                1.2\n",
      "Vit_D_IU                                  48\n",
      "Vit_K_(mcg)                              0.2\n",
      "FA_Sat_(g)                             1.886\n",
      "FA_Mono_(g)                            0.875\n",
      "FA_Poly_(g)                            0.113\n",
      "Cholestrl_(mg)                            12\n",
      "Name: 99, dtype: object\n"
     ]
    }
   ],
   "source": [
    "hundredth_row = food_info.loc[99]\n",
    "print(hundredth_row)"
   ]
  },
  {
   "cell_type": "code",
   "execution_count": 4,
   "metadata": {
    "collapsed": false
   },
   "outputs": [
    {
     "name": "stdout",
     "output_type": "stream",
     "text": [
      "NDB_No               int64\n",
      "Shrt_Desc           object\n",
      "Water_(g)          float64\n",
      "Energ_Kcal           int64\n",
      "Protein_(g)        float64\n",
      "Lipid_Tot_(g)      float64\n",
      "Ash_(g)            float64\n",
      "Carbohydrt_(g)     float64\n",
      "Fiber_TD_(g)       float64\n",
      "Sugar_Tot_(g)      float64\n",
      "Calcium_(mg)       float64\n",
      "Iron_(mg)          float64\n",
      "Magnesium_(mg)     float64\n",
      "Phosphorus_(mg)    float64\n",
      "Potassium_(mg)     float64\n",
      "Sodium_(mg)          int64\n",
      "Zinc_(mg)          float64\n",
      "Copper_(mg)        float64\n",
      "Manganese_(mg)     float64\n",
      "Selenium_(mcg)     float64\n",
      "Vit_C_(mg)         float64\n",
      "Thiamin_(mg)       float64\n",
      "Riboflavin_(mg)    float64\n",
      "Niacin_(mg)        float64\n",
      "Vit_B6_(mg)        float64\n",
      "Vit_B12_(mcg)      float64\n",
      "Vit_A_IU           float64\n",
      "Vit_A_RAE          float64\n",
      "Vit_E_(mg)         float64\n",
      "Vit_D_mcg          float64\n",
      "Vit_D_IU           float64\n",
      "Vit_K_(mcg)        float64\n",
      "FA_Sat_(g)         float64\n",
      "FA_Mono_(g)        float64\n",
      "FA_Poly_(g)        float64\n",
      "Cholestrl_(mg)     float64\n",
      "dtype: object\n"
     ]
    }
   ],
   "source": [
    "print(food_info.dtypes)"
   ]
  },
  {
   "cell_type": "markdown",
   "metadata": {},
   "source": [
    "#### Select the last 5 rows of food_info and assign to the variable last_rows."
   ]
  },
  {
   "cell_type": "code",
   "execution_count": 5,
   "metadata": {
    "collapsed": false
   },
   "outputs": [
    {
     "name": "stdout",
     "output_type": "stream",
     "text": [
      "     NDB_No                                          Shrt_Desc  Water_(g)  \\\n",
      "549    3900  INF FORMULA NESTLE GOOD START 2 ESSENTIALS W/ ...       86.6   \n",
      "550    3901  INF FORMULA  NE GOO STAR 2 ESSENT W/ IRON LIQ ...       74.2   \n",
      "551    3913  INF FORMULA NESTLE GOOD START 2 ESSENTIALS W/ ...        2.5   \n",
      "552    3925  INF FORMULA NESTLE GOOD START ESSENTIALS SOY W...       87.5   \n",
      "553    3926  INF FORM NEST GOOD START ESSENT SOY W/ IRON LI...       75.4   \n",
      "\n",
      "     Energ_Kcal  Protein_(g)  Lipid_Tot_(g)  Ash_(g)  Carbohydrt_(g)  \\\n",
      "549          65         1.70           2.70     0.47            8.54   \n",
      "550         125         3.25           5.13     0.93           16.50   \n",
      "551         471        12.20          19.30     3.77           62.23   \n",
      "552          65         1.63           3.30     0.40            7.17   \n",
      "553         128         3.20           6.50     0.80           14.10   \n",
      "\n",
      "     Fiber_TD_(g)  Sugar_Tot_(g)       ...        Vit_A_IU  Vit_A_RAE  \\\n",
      "549           0.0           6.19       ...           163.0       48.0   \n",
      "550           0.0          11.90       ...           313.0       98.0   \n",
      "551           0.0          44.30       ...          1178.0      354.0   \n",
      "552           0.0           5.69       ...           167.0       50.0   \n",
      "553           0.0          11.20       ...             NaN        NaN   \n",
      "\n",
      "     Vit_E_(mg)  Vit_D_mcg  Vit_D_IU  Vit_K_(mcg)  FA_Sat_(g)  FA_Mono_(g)  \\\n",
      "549        0.91        1.1      43.0          5.2       1.180        0.870   \n",
      "550        1.75        2.0      82.0         10.0       2.213        1.582   \n",
      "551        6.60        7.7     309.0         38.0       8.540        6.230   \n",
      "552        0.95        1.0      40.0          5.2       1.400        1.000   \n",
      "553         NaN        NaN       NaN          NaN         NaN          NaN   \n",
      "\n",
      "     FA_Poly_(g)  Cholestrl_(mg)  \n",
      "549        0.600             1.0  \n",
      "550        1.213             2.0  \n",
      "551        4.310             6.0  \n",
      "552        0.800             0.0  \n",
      "553          NaN             NaN  \n",
      "\n",
      "[5 rows x 36 columns]\n"
     ]
    }
   ],
   "source": [
    "#print(\"Rows 3, 4, 5 and 6\")\n",
    "#print(food_info.loc[3:6])\n",
    "\n",
    "#print(\"Rows 2, 5, and 10\")\n",
    "two_five_ten = [2,5,10]\n",
    "#print(food_info.loc[two_five_ten])\n",
    "\n",
    "last_rows = food_info.loc[len(food_info)-5:len(food_info)-1]\n",
    "print(last_rows)"
   ]
  },
  {
   "cell_type": "markdown",
   "metadata": {},
   "source": [
    "#### Assign the \"FA_Sat_(g)\" column to the variable saturated_fat.\n",
    "#### Assign the \"Cholestrl_(mg)\" column to the variable cholesterol."
   ]
  },
  {
   "cell_type": "code",
   "execution_count": 6,
   "metadata": {
    "collapsed": false
   },
   "outputs": [
    {
     "name": "stdout",
     "output_type": "stream",
     "text": [
      "0      51.368\n",
      "1      50.489\n",
      "2      61.924\n",
      "3      18.669\n",
      "4      18.764\n",
      "5      17.410\n",
      "6      15.259\n",
      "7      18.584\n",
      "8      19.368\n",
      "9      19.475\n",
      "10     20.218\n",
      "11      1.718\n",
      "12      2.311\n",
      "13      0.169\n",
      "14      1.235\n",
      "15      0.645\n",
      "16     19.292\n",
      "17     17.572\n",
      "18     14.946\n",
      "19     19.196\n",
      "20     19.160\n",
      "21     17.614\n",
      "22     18.913\n",
      "23     16.746\n",
      "24     19.066\n",
      "25     13.152\n",
      "26     15.561\n",
      "27     10.114\n",
      "28     11.473\n",
      "29     19.113\n",
      "        ...  \n",
      "524     2.120\n",
      "525     1.166\n",
      "526     2.262\n",
      "527     9.167\n",
      "528     2.798\n",
      "529     1.453\n",
      "530     1.838\n",
      "531    11.370\n",
      "532     1.237\n",
      "533     2.401\n",
      "534    11.370\n",
      "535     9.873\n",
      "536     2.969\n",
      "537     1.237\n",
      "538     2.401\n",
      "539     1.453\n",
      "540     9.873\n",
      "541     1.400\n",
      "542     1.256\n",
      "543     8.905\n",
      "544     1.242\n",
      "545    11.000\n",
      "546     1.495\n",
      "547    12.020\n",
      "548     1.256\n",
      "549     1.180\n",
      "550     2.213\n",
      "551     8.540\n",
      "552     1.400\n",
      "553       NaN\n",
      "Name: FA_Sat_(g), dtype: float64\n",
      "0      215.0\n",
      "1      219.0\n",
      "2      256.0\n",
      "3       75.0\n",
      "4       94.0\n",
      "5      100.0\n",
      "6       72.0\n",
      "7       93.0\n",
      "8      102.0\n",
      "9      103.0\n",
      "10      95.0\n",
      "11      17.0\n",
      "12      13.0\n",
      "13       7.0\n",
      "14      12.0\n",
      "15       4.0\n",
      "16     110.0\n",
      "17      89.0\n",
      "18      89.0\n",
      "19     116.0\n",
      "20      94.0\n",
      "21     114.0\n",
      "22     110.0\n",
      "23      90.0\n",
      "24      89.0\n",
      "25      79.0\n",
      "26      89.0\n",
      "27      64.0\n",
      "28      65.0\n",
      "29      96.0\n",
      "       ...  \n",
      "524      2.0\n",
      "525      0.0\n",
      "526      0.0\n",
      "527      0.0\n",
      "528      0.0\n",
      "529      0.0\n",
      "530      1.0\n",
      "531     16.0\n",
      "532      2.0\n",
      "533      3.0\n",
      "534      0.0\n",
      "535     14.0\n",
      "536      0.0\n",
      "537      2.0\n",
      "538      3.0\n",
      "539      0.0\n",
      "540     14.0\n",
      "541      2.0\n",
      "542      2.0\n",
      "543      0.0\n",
      "544      0.0\n",
      "545      6.0\n",
      "546      1.0\n",
      "547      8.0\n",
      "548      2.0\n",
      "549      1.0\n",
      "550      2.0\n",
      "551      6.0\n",
      "552      0.0\n",
      "553      NaN\n",
      "Name: Cholestrl_(mg), dtype: float64\n"
     ]
    }
   ],
   "source": [
    "# Series object.\n",
    "ndb_col = food_info[\"NDB_No\"]\n",
    "#print(ndb_col)\n",
    "\n",
    "# Display the type of the column to confirm it's a Series object.\n",
    "#print(type(ndb_col))\n",
    "\n",
    "saturated_fat = food_info[\"FA_Sat_(g)\"]\n",
    "print(saturated_fat)\n",
    "cholesterol = food_info[\"Cholestrl_(mg)\"]\n",
    "print(cholesterol)"
   ]
  },
  {
   "cell_type": "markdown",
   "metadata": {},
   "source": [
    "#### Select the 'Selenium_(mcg)' and 'Thiamin_(mg)' columns and assign the resulting dataframe to selenium_thiamin."
   ]
  },
  {
   "cell_type": "code",
   "execution_count": 7,
   "metadata": {
    "collapsed": true
   },
   "outputs": [],
   "source": [
    "zinc_copper = food_info[[\"Zinc_(mg)\", \"Copper_(mg)\"]]\n",
    "\n",
    "columns = [\"Zinc_(mg)\", \"Copper_(mg)\"]\n",
    "zinc_copper = food_info[columns]\n",
    "\n",
    "selenium_thiamin = food_info[[\"Selenium_(mcg)\",\"Thiamin_(mg)\"]]"
   ]
  },
  {
   "cell_type": "markdown",
   "metadata": {},
   "source": [
    "#### Select and display only the columns that use grams for measurement (that end with \"(g)\"). To accomplish this:\n",
    "    Use the columns attribute to return the column names in food_info and convert to a list by calling the method tolist()\n",
    "    Create a new list, gram_columns, containing only the column names that end in \"(g)\". The string method endswith() returns True if the string object calling the method ends with the string passed into the parentheses.\n",
    "    Pass gram_columns into bracket notation to select just those columns and assign the resulting dataframe to gram_df\n",
    "    Then use the dataframe method head() to display the first 3 rows of gram_df."
   ]
  },
  {
   "cell_type": "code",
   "execution_count": 8,
   "metadata": {
    "collapsed": false
   },
   "outputs": [
    {
     "name": "stdout",
     "output_type": "stream",
     "text": [
      "   Water_(g)  Protein_(g)  Lipid_Tot_(g)  Ash_(g)  Carbohydrt_(g)  \\\n",
      "0      15.87         0.85          81.11     2.11            0.06   \n",
      "1      15.87         0.85          81.11     2.11            0.06   \n",
      "2       0.24         0.28          99.48     0.00            0.00   \n",
      "\n",
      "   Fiber_TD_(g)  Sugar_Tot_(g)  FA_Sat_(g)  FA_Mono_(g)  FA_Poly_(g)  \n",
      "0           0.0           0.06      51.368       21.021        3.043  \n",
      "1           0.0           0.06      50.489       23.426        3.012  \n",
      "2           0.0           0.00      61.924       28.732        3.694  \n"
     ]
    }
   ],
   "source": [
    "col_names = food_info.columns.tolist()\n",
    "\n",
    "gram_columns = []\n",
    "for each in col_names:\n",
    "    if( each.endswith(\"(g)\") ):\n",
    "        gram_columns.append(each)\n",
    "        \n",
    "gram_df = food_info[gram_columns]\n",
    "\n",
    "print(gram_df.head(3))"
   ]
  },
  {
   "cell_type": "markdown",
   "metadata": {},
   "source": [
    "# THIS IS THE END 8-)"
   ]
  },
  {
   "cell_type": "code",
   "execution_count": null,
   "metadata": {
    "collapsed": true
   },
   "outputs": [],
   "source": []
  }
 ],
 "metadata": {
  "kernelspec": {
   "display_name": "Python 3",
   "language": "python",
   "name": "python3"
  },
  "language_info": {
   "codemirror_mode": {
    "name": "ipython",
    "version": 3
   },
   "file_extension": ".py",
   "mimetype": "text/x-python",
   "name": "python",
   "nbconvert_exporter": "python",
   "pygments_lexer": "ipython3",
   "version": "3.6.0"
  }
 },
 "nbformat": 4,
 "nbformat_minor": 2
}
