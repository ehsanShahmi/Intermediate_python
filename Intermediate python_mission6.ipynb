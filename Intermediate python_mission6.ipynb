{
 "cells": [
  {
   "cell_type": "markdown",
   "metadata": {},
   "source": [
    "# Welcome \n",
    "\n",
    "This is mission 6 from dataquest : https://www.dataquest.io/mission/6/getting-started-with-numpy"
   ]
  },
  {
   "cell_type": "markdown",
   "metadata": {},
   "source": [
    "#### Use the csv module to read world_alcohol.csv into the variable world_alcohol.\n",
    "    You can use the csv.reader function to accomplish this.\n",
    "    world_alcohol should be a list of lists.\n",
    "#### Extract the first column of world_alcohol, and assign it to the variable years.\n",
    "#### Use list slicing to remove the first item in years (this is a header).\n",
    "#### Find the sum of all the items in years. Assign the result to total.\n",
    "    Remember to convert each item to a float before adding them together.\n",
    "#### Divide total by the length of years to get the average. Assign the result to avg_year."
   ]
  },
  {
   "cell_type": "code",
   "execution_count": 1,
   "metadata": {
    "collapsed": false
   },
   "outputs": [
    {
     "name": "stdout",
     "output_type": "stream",
     "text": [
      "1986.2323529411765\n"
     ]
    }
   ],
   "source": [
    "import csv\n",
    "\n",
    "world_alcohol = list(csv.reader(open(\"world_alcohol.csv\",\"r\")))\n",
    "\n",
    "years = []\n",
    "for poop in world_alcohol:\n",
    "    item = poop[0]\n",
    "    years.append(item)\n",
    "years = years[1:len(years)]\n",
    "\n",
    "total = 0\n",
    "for BIG_poop in years:\n",
    "    total += float(BIG_poop)\n",
    "avg_year = total/len(years)\n",
    "\n",
    "print(avg_year)\n",
    "#print(open(\"world_alcohol.csv\",\"r\").read())"
   ]
  },
  {
   "cell_type": "markdown",
   "metadata": {},
   "source": [
    "#### Import NumPy.\n",
    "#### Use the genfromtxt() function to read world_alcohol.csv into the world_alcohol variable.\n",
    "#### Use the type() and print() functions to display the type for world_alcohol."
   ]
  },
  {
   "cell_type": "code",
   "execution_count": 5,
   "metadata": {
    "collapsed": false
   },
   "outputs": [
    {
     "name": "stdout",
     "output_type": "stream",
     "text": [
      "<class 'numpy.ndarray'>\n"
     ]
    }
   ],
   "source": [
    "import numpy\n",
    "\n",
    "world_alcohol = numpy.genfromtxt(\"world_alcohol.csv\",delimiter=\",\")\n",
    "\n",
    "print(type(world_alcohol))"
   ]
  },
  {
   "cell_type": "markdown",
   "metadata": {},
   "source": [
    "#### Create a vector from the list [10, 20, 30].\n",
    "    Assign the result to the variable vector.\n",
    "#### Create a matrix from the list of lists [[5, 10, 15], [20, 25, 30], [35, 40, 45]].\n",
    "    Assign the result to the variable matrix."
   ]
  },
  {
   "cell_type": "code",
   "execution_count": 6,
   "metadata": {
    "collapsed": true
   },
   "outputs": [],
   "source": [
    "import numpy\n",
    "\n",
    "vector = numpy.array([10, 20, 30])\n",
    "\n",
    "matrix = numpy.array([[5,10,15],[20,25,30],[35,40,45]])"
   ]
  },
  {
   "cell_type": "markdown",
   "metadata": {},
   "source": [
    "#### Assign the shape of vector to vector_shape.\n",
    "#### Assign the shape of matrix to matrix_shape."
   ]
  },
  {
   "cell_type": "code",
   "execution_count": 7,
   "metadata": {
    "collapsed": false
   },
   "outputs": [
    {
     "name": "stdout",
     "output_type": "stream",
     "text": [
      "(3,)\n",
      "(3, 3)\n"
     ]
    }
   ],
   "source": [
    "vector = numpy.array([10, 20, 30])\n",
    "matrix = numpy.array([[5, 10, 15], [20, 25, 30], [35, 40, 45]])\n",
    "\n",
    "vector_shape = vector.shape\n",
    "print(vector_shape)\n",
    "matrix_shape = matrix.shape\n",
    "print(matrix_shape)"
   ]
  },
  {
   "cell_type": "markdown",
   "metadata": {},
   "source": [
    "#### Assign the data type of world_alcohol to the variable world_alcohol_dtype."
   ]
  },
  {
   "cell_type": "code",
   "execution_count": 8,
   "metadata": {
    "collapsed": false
   },
   "outputs": [
    {
     "name": "stdout",
     "output_type": "stream",
     "text": [
      "float64\n"
     ]
    }
   ],
   "source": [
    "import numpy\n",
    "\n",
    "world_alcohol_dtype = world_alcohol.dtype\n",
    "\n",
    "print(world_alcohol_dtype)"
   ]
  },
  {
   "cell_type": "markdown",
   "metadata": {},
   "source": [
    "#### Use the numpy.genfromtxt() function to read in world_alcohol.csv:\n",
    "    Set the dtype parameter to \"U75\".\n",
    "    Set the skip_header parameter to 1.\n",
    "    Set the delimiter parameter to ,.\n",
    "#### Assign the result to world_alcohol.\n",
    "#### Use the print() function to display world_alcohol."
   ]
  },
  {
   "cell_type": "code",
   "execution_count": 9,
   "metadata": {
    "collapsed": false
   },
   "outputs": [
    {
     "name": "stdout",
     "output_type": "stream",
     "text": [
      "[['1986' 'Western Pacific' 'Viet Nam' 'Wine' '0']\n",
      " ['1986' 'Americas' 'Uruguay' 'Other' '0.5']\n",
      " ['1985' 'Africa' \"Cte d'Ivoire\" 'Wine' '1.62']\n",
      " ..., \n",
      " ['1984' 'Africa' 'Equatorial Guinea' 'Spirits' '0']\n",
      " ['1986' 'Americas' 'Cuba' 'Other' '']\n",
      " ['1989' 'Americas' 'Dominican Republic' 'Other' '0']]\n"
     ]
    }
   ],
   "source": [
    "import numpy\n",
    "\n",
    "world_alcohol = numpy.genfromtxt(\"world_alcohol.csv\",delimiter=\",\",skip_header=1, dtype=\"U75\")\n",
    "\n",
    "print(world_alcohol)\n"
   ]
  },
  {
   "cell_type": "markdown",
   "metadata": {},
   "source": [
    "#### Assign the amount of alcohol Uruguayans drank in other beverages per capita in 1986 to uruguay_other_1986. This is the second row and fifth column.\n",
    "#### Assign the country in the third row to third_country. Country is the third column."
   ]
  },
  {
   "cell_type": "code",
   "execution_count": 10,
   "metadata": {
    "collapsed": true
   },
   "outputs": [],
   "source": [
    "import numpy\n",
    "\n",
    "uruguay_other_1986 = world_alcohol[1,4]\n",
    "third_country = world_alcohol[2,2]"
   ]
  },
  {
   "cell_type": "markdown",
   "metadata": {},
   "source": [
    "#### Assign the whole third column from world_alcohol to the variable countries.\n",
    "#### Assign the whole fifth column from world_alcohol to the variable alcohol_consumption."
   ]
  },
  {
   "cell_type": "code",
   "execution_count": 11,
   "metadata": {
    "collapsed": false
   },
   "outputs": [
    {
     "name": "stdout",
     "output_type": "stream",
     "text": [
      "['Viet Nam' 'Uruguay' \"Cte d'Ivoire\" ..., 'Equatorial Guinea' 'Cuba'\n",
      " 'Dominican Republic']\n",
      "['0' '0.5' '1.62' ..., '0' '' '0']\n"
     ]
    }
   ],
   "source": [
    "countries = world_alcohol[:,2]\n",
    "alcohol_consumption = world_alcohol[:,4]\n",
    "\n",
    "print(countries)\n",
    "print(alcohol_consumption)"
   ]
  },
  {
   "cell_type": "markdown",
   "metadata": {},
   "source": [
    "#### Assign all the rows and the first 2 columns of world_alcohol to first_two_columns.\n",
    "#### Assign the first 10 rows and the first column of world_alcohol to first_ten_years.\n",
    "#### Assign the first 10 rows and all of the columns of world_alcohol to first_ten_rows."
   ]
  },
  {
   "cell_type": "code",
   "execution_count": 12,
   "metadata": {
    "collapsed": false
   },
   "outputs": [
    {
     "name": "stdout",
     "output_type": "stream",
     "text": [
      "[['1986' 'Western Pacific']\n",
      " ['1986' 'Americas']\n",
      " ['1985' 'Africa']\n",
      " ..., \n",
      " ['1984' 'Africa']\n",
      " ['1986' 'Americas']\n",
      " ['1989' 'Americas']]\n",
      "['1986' '1986' '1985' '1986' '1987' '1987' '1987' '1985' '1986' '1984']\n",
      "[['1986' 'Western Pacific' 'Viet Nam' 'Wine' '0']\n",
      " ['1986' 'Americas' 'Uruguay' 'Other' '0.5']\n",
      " ['1985' 'Africa' \"Cte d'Ivoire\" 'Wine' '1.62']\n",
      " ['1986' 'Americas' 'Colombia' 'Beer' '4.27']\n",
      " ['1987' 'Americas' 'Saint Kitts and Nevis' 'Beer' '1.98']\n",
      " ['1987' 'Americas' 'Guatemala' 'Other' '0']\n",
      " ['1987' 'Africa' 'Mauritius' 'Wine' '0.13']\n",
      " ['1985' 'Africa' 'Angola' 'Spirits' '0.39']\n",
      " ['1986' 'Americas' 'Antigua and Barbuda' 'Spirits' '1.55']\n",
      " ['1984' 'Africa' 'Nigeria' 'Other' '6.1']]\n"
     ]
    }
   ],
   "source": [
    "first_two_columns = world_alcohol[:,0:2]\n",
    "\n",
    "first_ten_years = world_alcohol[0:10,0]\n",
    "\n",
    "first_ten_rows = world_alcohol[0:10,:]\n",
    "\n",
    "print(first_two_columns)\n",
    "print(first_ten_years)\n",
    "print(first_ten_rows)"
   ]
  },
  {
   "cell_type": "markdown",
   "metadata": {},
   "source": [
    "#### Assign the first 20 rows of the columns at index 1 and 2 of world_alcohol to first_twenty_regions."
   ]
  },
  {
   "cell_type": "code",
   "execution_count": 13,
   "metadata": {
    "collapsed": false
   },
   "outputs": [
    {
     "name": "stdout",
     "output_type": "stream",
     "text": [
      "[['Western Pacific' 'Viet Nam']\n",
      " ['Americas' 'Uruguay']\n",
      " ['Africa' \"Cte d'Ivoire\"]\n",
      " ['Americas' 'Colombia']\n",
      " ['Americas' 'Saint Kitts and Nevis']\n",
      " ['Americas' 'Guatemala']\n",
      " ['Africa' 'Mauritius']\n",
      " ['Africa' 'Angola']\n",
      " ['Americas' 'Antigua and Barbuda']\n",
      " ['Africa' 'Nigeria']\n",
      " ['Africa' 'Botswana']\n",
      " ['Americas' 'Guatemala']\n",
      " ['Western Pacific' \"Lao People's Democratic Republic\"]\n",
      " ['Eastern Mediterranean' 'Afghanistan']\n",
      " ['Western Pacific' 'Viet Nam']\n",
      " ['Africa' 'Guinea-Bissau']\n",
      " ['Americas' 'Costa Rica']\n",
      " ['Africa' 'Seychelles']\n",
      " ['Europe' 'Norway']\n",
      " ['Africa' 'Kenya']]\n"
     ]
    }
   ],
   "source": [
    "first_twenty_regions = world_alcohol[0:20,1:3]\n",
    "\n",
    "print(first_twenty_regions)"
   ]
  },
  {
   "cell_type": "markdown",
   "metadata": {},
   "source": [
    "# THIS IS THE END 8-)"
   ]
  },
  {
   "cell_type": "code",
   "execution_count": null,
   "metadata": {
    "collapsed": true
   },
   "outputs": [],
   "source": []
  }
 ],
 "metadata": {
  "kernelspec": {
   "display_name": "Python 3",
   "language": "python",
   "name": "python3"
  },
  "language_info": {
   "codemirror_mode": {
    "name": "ipython",
    "version": 3
   },
   "file_extension": ".py",
   "mimetype": "text/x-python",
   "name": "python",
   "nbconvert_exporter": "python",
   "pygments_lexer": "ipython3",
   "version": "3.6.0"
  }
 },
 "nbformat": 4,
 "nbformat_minor": 2
}
