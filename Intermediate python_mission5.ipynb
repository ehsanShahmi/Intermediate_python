{
 "cells": [
  {
   "cell_type": "markdown",
   "metadata": {},
   "source": [
    "# Welcome \n",
    "\n",
    "This is mission 5 from dataquest : https://www.dataquest.io/mission/5/modules"
   ]
  },
  {
   "cell_type": "markdown",
   "metadata": {
    "collapsed": true
   },
   "source": [
    "#### Use the sqrt() function within the math module to assign the square root of 16.0 to a.\n",
    "#### Use the ceil() function within the math module to assign the ceiling of 111.3 to b.\n",
    "#### Use the floor() function within the math module to assign the floor of 89.9 to c."
   ]
  },
  {
   "cell_type": "code",
   "execution_count": 1,
   "metadata": {
    "collapsed": false
   },
   "outputs": [
    {
     "name": "stdout",
     "output_type": "stream",
     "text": [
      "4.0 112 89\n"
     ]
    }
   ],
   "source": [
    "import math\n",
    "\n",
    "a = math.sqrt(16.0)\n",
    "\n",
    "b = math.ceil(111.3)\n",
    "\n",
    "c = math.floor(89.9)\n",
    "\n",
    "print(a,b,c)"
   ]
  },
  {
   "cell_type": "markdown",
   "metadata": {},
   "source": [
    "#### Assign the square root of pi to a.\n",
    "#### Assign the ceiling of pi to b.\n",
    "#### Assign the floor of pi to c."
   ]
  },
  {
   "cell_type": "code",
   "execution_count": 2,
   "metadata": {
    "collapsed": false
   },
   "outputs": [
    {
     "name": "stdout",
     "output_type": "stream",
     "text": [
      "1.7724538509055159 4 3\n"
     ]
    }
   ],
   "source": [
    "import math\n",
    "\n",
    "a = math.sqrt(math.pi)\n",
    "b = math.ceil(math.pi)\n",
    "c = math.floor(math.pi)\n",
    "\n",
    "print(a,b,c)"
   ]
  },
  {
   "cell_type": "markdown",
   "metadata": {},
   "source": [
    "#### Read all of the data from \"nfl.csv\" into a list variable named nfl using the csv module."
   ]
  },
  {
   "cell_type": "code",
   "execution_count": 4,
   "metadata": {
    "collapsed": false
   },
   "outputs": [],
   "source": [
    "import csv\n",
    "\n",
    "nfl = list(csv.reader(open(\"nfl.csv\",\"r\")))"
   ]
  },
  {
   "cell_type": "markdown",
   "metadata": {},
   "source": [
    "#### Imports and uses the csv module to load data from our \"nfl.csv\" file\n",
    "#### Counts how many games the \"New England Patriots\" won from 2009-2013\n",
    "    To do this, set a counter to 0 and increment by 1 for each row that has \"New England Patriots\" in the winner column\n",
    "#### Assigns the count to patriots_wins"
   ]
  },
  {
   "cell_type": "code",
   "execution_count": 5,
   "metadata": {
    "collapsed": false
   },
   "outputs": [
    {
     "name": "stdout",
     "output_type": "stream",
     "text": [
      "61\n"
     ]
    }
   ],
   "source": [
    "import csv\n",
    "\n",
    "nfl = list(csv.reader(open(\"nfl.csv\",\"r\")))\n",
    "\n",
    "count = 0\n",
    "for each in nfl:\n",
    "    if (each[2] == \"New England Patriots\"):\n",
    "        count += 1\n",
    "        \n",
    "patriots_wins = count\n",
    "print(patriots_wins)"
   ]
  },
  {
   "cell_type": "markdown",
   "metadata": {},
   "source": [
    "#### Write a function called nfl_wins that takes a team name as input.\n",
    "    The function should return the number of games the team won in the period covered by the data set.\n",
    "#### Use the function to assign the number of \"Dallas Cowboys\" wins to cowboys_wins.\n",
    "#### Use the function to assign the number of \"Atlanta Falcons\" wins to falcons_wins."
   ]
  },
  {
   "cell_type": "code",
   "execution_count": 6,
   "metadata": {
    "collapsed": false
   },
   "outputs": [
    {
     "name": "stdout",
     "output_type": "stream",
     "text": [
      "41 49\n"
     ]
    }
   ],
   "source": [
    "import csv\n",
    "\n",
    "f = open(\"nfl.csv\", 'r')\n",
    "nfl = list(csv.reader(f))\n",
    "\n",
    "# Define your function here.\n",
    "def nfl_wins(team):\n",
    "    count = 0\n",
    "    for each in nfl:\n",
    "        if( each[2] == team ):\n",
    "            count += 1\n",
    "    return(count)\n",
    "\n",
    "cowboys_wins = nfl_wins(\"Dallas Cowboys\")\n",
    "falcons_wins = nfl_wins(\"Atlanta Falcons\")\n",
    "\n",
    "print(cowboys_wins,falcons_wins)"
   ]
  },
  {
   "cell_type": "markdown",
   "metadata": {},
   "source": [
    "#### There are several Boolean expressions and comments in the following code cell. Enter True or False below each one to indicate what the expression will evaluate as.\n",
    "    For instance, if you think the first expression is True, assign True to result1."
   ]
  },
  {
   "cell_type": "code",
   "execution_count": 7,
   "metadata": {
    "collapsed": true
   },
   "outputs": [],
   "source": [
    "a = 5\n",
    "b = 10\n",
    "# a == 5\n",
    "result1 = True\n",
    "\n",
    "# a < 5 or b > a\n",
    "result2 = True\n",
    "\n",
    "# a < 5 and b > a\n",
    "result3 = False\n",
    "\n",
    "# a == 5 or b == 5\n",
    "result4 = True\n",
    "\n",
    "# a > b or a == 10\n",
    "result5 = False"
   ]
  },
  {
   "cell_type": "markdown",
   "metadata": {},
   "source": [
    "#### Modify the nfl_wins function so that it takes two string inputs: (1) a team name, and (2) a year.\n",
    "    Name this new function nfl_wins_in_a_year.\n",
    "    Your function should output the number of victories the team won in the given year (as an integer).\n",
    "    Use the and operator to combine Booleans. For each row in the data set, check whether the desired team won, and whether the game took place during the correct year.\n",
    "#### Use your function to assign the number of games the \"Cleveland Browns\" won in \"2010\" to browns_2010_wins.\n",
    "#### Use your function to assign the number of games the \"Philadelphia Eagles\" won in \"2011\" to eagles_2011_wins."
   ]
  },
  {
   "cell_type": "code",
   "execution_count": 8,
   "metadata": {
    "collapsed": false
   },
   "outputs": [
    {
     "name": "stdout",
     "output_type": "stream",
     "text": [
      "5\n",
      "8\n"
     ]
    }
   ],
   "source": [
    "import csv\n",
    "\n",
    "f = open(\"nfl.csv\", 'r')\n",
    "nfl = list(csv.reader(f))\n",
    "\n",
    "def nfl_wins_in_a_year(team, year):\n",
    "    count = 0\n",
    "    for row in nfl:\n",
    "        if row[2] == team and row[0] == year:\n",
    "            count = count + 1\n",
    "    return count\n",
    "\n",
    "browns_2010_wins = nfl_wins_in_a_year(\"Cleveland Browns\",\"2010\")\n",
    "print(browns_2010_wins)\n",
    "eagles_2011_wins = nfl_wins_in_a_year(\"Philadelphia Eagles\",\"2011\")\n",
    "print(eagles_2011_wins)"
   ]
  },
  {
   "cell_type": "markdown",
   "metadata": {},
   "source": [
    "# THIS IS THE END 8-)"
   ]
  },
  {
   "cell_type": "code",
   "execution_count": null,
   "metadata": {
    "collapsed": true
   },
   "outputs": [],
   "source": []
  }
 ],
 "metadata": {
  "kernelspec": {
   "display_name": "Python 3",
   "language": "python",
   "name": "python3"
  },
  "language_info": {
   "codemirror_mode": {
    "name": "ipython",
    "version": 3
   },
   "file_extension": ".py",
   "mimetype": "text/x-python",
   "name": "python",
   "nbconvert_exporter": "python",
   "pygments_lexer": "ipython3",
   "version": "3.6.0"
  }
 },
 "nbformat": 4,
 "nbformat_minor": 2
}
