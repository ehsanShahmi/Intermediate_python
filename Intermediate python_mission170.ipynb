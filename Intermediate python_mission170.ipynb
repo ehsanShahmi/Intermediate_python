{
 "cells": [
  {
   "cell_type": "markdown",
   "metadata": {},
   "source": [
    "# Welcome \n",
    "\n",
    "This is mission 170 from dataquest : https://www.dataquest.io/mission/170/computation-with-numpy"
   ]
  },
  {
   "cell_type": "markdown",
   "metadata": {},
   "source": [
    "The variable world_alcohol already contains the data set we're working with.\n",
    "#### Extract the third column in world_alcohol, and compare it to the string Canada. Assign the result to countries_canada.\n",
    "#### Extract the first column in world_alcohol, and compare it to the string 1984. Assign the result to years_1984."
   ]
  },
  {
   "cell_type": "code",
   "execution_count": 5,
   "metadata": {
    "collapsed": false
   },
   "outputs": [
    {
     "name": "stdout",
     "output_type": "stream",
     "text": [
      "[False False False ..., False False False]\n",
      "[False False False ...,  True False False]\n"
     ]
    }
   ],
   "source": [
    "import numpy\n",
    "\n",
    "world_alcohol = numpy.genfromtxt(\"world_alcohol.csv\",delimiter=\",\",skip_header=1, dtype=\"U75\")\n",
    "\n",
    "countries_canada = (world_alcohol[:,2]==\"Canada\")\n",
    "\n",
    "years_1984 = (world_alcohol[:,0]==\"1984\")\n",
    "\n",
    "print(countries_canada)\n",
    "print(years_1984)"
   ]
  },
  {
   "cell_type": "markdown",
   "metadata": {},
   "source": [
    "#### Compare the third column of world_alcohol to the string Algeria.\n",
    "#### Assign the result to country_is_algeria.\n",
    "#### Select only the rows in world_alcohol where country_is_algeria is True.\n",
    "#### Assign the result to country_algeria."
   ]
  },
  {
   "cell_type": "code",
   "execution_count": 6,
   "metadata": {
    "collapsed": false
   },
   "outputs": [
    {
     "name": "stdout",
     "output_type": "stream",
     "text": [
      "[['1984' 'Africa' 'Algeria' 'Spirits' '0.01']\n",
      " ['1987' 'Africa' 'Algeria' 'Beer' '0.17']\n",
      " ['1987' 'Africa' 'Algeria' 'Spirits' '0.01']\n",
      " ['1986' 'Africa' 'Algeria' 'Wine' '0.1']\n",
      " ['1984' 'Africa' 'Algeria' 'Other' '0']\n",
      " ['1989' 'Africa' 'Algeria' 'Beer' '0.16']\n",
      " ['1989' 'Africa' 'Algeria' 'Spirits' '0.01']\n",
      " ['1989' 'Africa' 'Algeria' 'Wine' '0.23']\n",
      " ['1986' 'Africa' 'Algeria' 'Spirits' '0.01']\n",
      " ['1984' 'Africa' 'Algeria' 'Wine' '0.12']\n",
      " ['1985' 'Africa' 'Algeria' 'Beer' '0.19']\n",
      " ['1985' 'Africa' 'Algeria' 'Other' '0']\n",
      " ['1986' 'Africa' 'Algeria' 'Beer' '0.18']\n",
      " ['1985' 'Africa' 'Algeria' 'Wine' '0.11']\n",
      " ['1986' 'Africa' 'Algeria' 'Other' '0']\n",
      " ['1989' 'Africa' 'Algeria' 'Other' '0']\n",
      " ['1987' 'Africa' 'Algeria' 'Other' '0']]\n"
     ]
    }
   ],
   "source": [
    "country_is_algeria = (world_alcohol[:,2]==\"Algeria\")\n",
    "country_algeria = world_alcohol[country_is_algeria,:]\n",
    "\n",
    "print(country_algeria)"
   ]
  },
  {
   "cell_type": "markdown",
   "metadata": {},
   "source": [
    "#### Perform a comparison with multiple conditions, and join the conditions with &.\n",
    "    Compare the first column of world_alcohol to the string 1986.\n",
    "    Compare the third column of world_alcohol to the string Algeria.\n",
    "    Enclose each condition in parentheses, and join the conditions with &.\n",
    "    Assign the result to is_algeria_and_1986.\n",
    "#### Use is_algeria_and_1986 to select rows from world_alcohol.\n",
    "#### Assign the rows that is_algeria_and_1986 selects to rows_with_algeria_and_1986."
   ]
  },
  {
   "cell_type": "code",
   "execution_count": 7,
   "metadata": {
    "collapsed": false
   },
   "outputs": [
    {
     "name": "stdout",
     "output_type": "stream",
     "text": [
      "[['1986' 'Africa' 'Algeria' 'Wine' '0.1']\n",
      " ['1986' 'Africa' 'Algeria' 'Spirits' '0.01']\n",
      " ['1986' 'Africa' 'Algeria' 'Beer' '0.18']\n",
      " ['1986' 'Africa' 'Algeria' 'Other' '0']]\n"
     ]
    }
   ],
   "source": [
    "is_algeria_and_1986 = (world_alcohol[:,0]==\"1986\") & (world_alcohol[:,2]==\"Algeria\")\n",
    "\n",
    "rows_with_algeria_and_1986 = world_alcohol[is_algeria_and_1986,:]\n",
    "\n",
    "print(rows_with_algeria_and_1986)"
   ]
  },
  {
   "cell_type": "markdown",
   "metadata": {},
   "source": [
    "#### Replace all instances of the string 1986 in the first column of world_alcohol with the string 2014.\n",
    "#### Replace all instances of the string Wine in the fourth column of world_alcohol with the string Grog."
   ]
  },
  {
   "cell_type": "code",
   "execution_count": 8,
   "metadata": {
    "collapsed": false
   },
   "outputs": [
    {
     "name": "stdout",
     "output_type": "stream",
     "text": [
      "[['2014' 'Western Pacific' 'Viet Nam' 'Wine' '0']\n",
      " ['2014' 'Americas' 'Uruguay' 'Other' '0.5']\n",
      " ['1985' 'Africa' \"Cte d'Ivoire\" 'Wine' '1.62']\n",
      " ..., \n",
      " ['1984' 'Africa' 'Equatorial Guinea' 'Spirits' '0']\n",
      " ['2014' 'Americas' 'Cuba' 'Other' '']\n",
      " ['1989' 'Americas' 'Dominican Republic' 'Other' '0']]\n",
      "[['2014' 'Western Pacific' 'Viet Nam' 'Grog' '0']\n",
      " ['2014' 'Americas' 'Uruguay' 'Other' '0.5']\n",
      " ['1985' 'Africa' \"Cte d'Ivoire\" 'Grog' '1.62']\n",
      " ..., \n",
      " ['1984' 'Africa' 'Equatorial Guinea' 'Spirits' '0']\n",
      " ['2014' 'Americas' 'Cuba' 'Other' '']\n",
      " ['1989' 'Americas' 'Dominican Republic' 'Other' '0']]\n"
     ]
    }
   ],
   "source": [
    "poop = world_alcohol[:,0]==\"1986\"\n",
    "world_alcohol[poop,0] = \"2014\"\n",
    "\n",
    "print(world_alcohol)\n",
    "\n",
    "poop = world_alcohol[:,3]==\"Wine\"\n",
    "world_alcohol[poop,3] = \"Grog\"\n",
    "print(world_alcohol)"
   ]
  },
  {
   "cell_type": "markdown",
   "metadata": {},
   "source": [
    "#### Compare all the items in the fifth column of world_alcohol with an empty string ''. Assign the result to is_value_empty.\n",
    "#### Select all the values in the fifth column of world_alcohol where is_value_empty is True, and replace them with the string 0."
   ]
  },
  {
   "cell_type": "code",
   "execution_count": 9,
   "metadata": {
    "collapsed": true
   },
   "outputs": [],
   "source": [
    "is_value_empty = world_alcohol[:,4]==\"\"\n",
    "\n",
    "world_alcohol[is_value_empty,4] = 0"
   ]
  },
  {
   "cell_type": "markdown",
   "metadata": {},
   "source": [
    "#### Extract the fifth column from world_alcohol, and assign it to the variable alcohol_consumption.\n",
    "#### Use the astype() method to convert alcohol_consumption to the float data type."
   ]
  },
  {
   "cell_type": "code",
   "execution_count": 10,
   "metadata": {
    "collapsed": true
   },
   "outputs": [],
   "source": [
    "alcohol_consumption = world_alcohol[:,4]\n",
    "\n",
    "alcohol_consumption = alcohol_consumption.astype(float)"
   ]
  },
  {
   "cell_type": "markdown",
   "metadata": {},
   "source": [
    "#### Use the sum() method to calculate the sum of the values in alcohol_consumption. Assign the result to total_alcohol.\n",
    "#### Use the mean() method to calculate the average of the values in alcohol_consumption. Assign the result to average_alcohol."
   ]
  },
  {
   "cell_type": "code",
   "execution_count": 11,
   "metadata": {
    "collapsed": false
   },
   "outputs": [
    {
     "name": "stdout",
     "output_type": "stream",
     "text": [
      "3279.29\n",
      "1.20606472968\n"
     ]
    }
   ],
   "source": [
    "total_alcohol = alcohol_consumption.sum()\n",
    "average_alcohol = alcohol_consumption.mean()\n",
    "\n",
    "print(total_alcohol)\n",
    "print(average_alcohol)"
   ]
  },
  {
   "cell_type": "markdown",
   "metadata": {},
   "source": [
    "#### Create a matrix called canada_1986 that only contains the rows in world_alcohol where the first column is the string 1986 and the third column is the string Canada.\n",
    "#### Extract the fifth column of canada_1986, replace any empty strings ('') with the string 0, and convert the column to the float data type. Assign the result to canada_alcohol.\n",
    "#### Compute the sum of canada_alcohol. Assign the result to total_canadian_drinking."
   ]
  },
  {
   "cell_type": "code",
   "execution_count": 13,
   "metadata": {
    "collapsed": false
   },
   "outputs": [
    {
     "name": "stdout",
     "output_type": "stream",
     "text": [
      "0.0\n"
     ]
    }
   ],
   "source": [
    "poop = ((world_alcohol[:,0]==\"1986\") & (world_alcohol[:,2]==\"Canada\"))\n",
    "canada_1986 = world_alcohol[poop,:]\n",
    "#print(canada_1986)\n",
    "\n",
    "poop2 = (canada_1986[:,4]==\"\")\n",
    "canada_1986[poop2,4] = \"0\"\n",
    "canada_alcohol = canada_1986[:,4].astype(float)\n",
    "\n",
    "total_canadian_drinking = canada_alcohol.sum()\n",
    "print(total_canadian_drinking)"
   ]
  },
  {
   "cell_type": "markdown",
   "metadata": {},
   "source": [
    "#### We've assigned the list of all countries to the variable countries.\n",
    "#### Find the total consumption for each country in countries for the year 1989.\n",
    "    Refer to the steps outlined above for help.\n",
    "#### When you're finished, totals should contain all of the country names as keys, with the corresponding alcohol consumption totals for 1989 as values."
   ]
  },
  {
   "cell_type": "code",
   "execution_count": 15,
   "metadata": {
    "collapsed": false
   },
   "outputs": [
    {
     "name": "stdout",
     "output_type": "stream",
     "text": [
      "{'South Africa': 7.5899999999999999, 'Malawi': 0.90999999999999992, 'Uruguay': 7.4399999999999995, 'Sao Tome and Principe': 2.4099999999999997, 'Israel': 1.5600000000000001, 'Sri Lanka': 0.14000000000000001, 'Kenya': 2.8199999999999998, 'Russian Federation': 5.3499999999999996, 'Cameroon': 6.3599999999999994, 'Cabo Verde': 2.79, 'Congo': 1.2400000000000002, 'Canada': 4.1799999999999997, 'Argentina': 0.28999999999999998, 'Norway': 5.0800000000000001, 'Dominican Republic': 4.5300000000000002, 'Bahrain': 4.8899999999999997, 'Albania': 1.27, 'Lithuania': 0.0, 'Papua New Guinea': 1.1099999999999999, 'Mauritius': 1.73, 'Republic of Korea': 9.620000000000001, 'Bahamas': 12.290000000000001, 'Luxembourg': 12.5, 'Saint Lucia': 11.619999999999999, 'Algeria': 0.40000000000000002, 'Eritrea': 0.28999999999999998, 'Botswana': 4.6299999999999999, 'Nicaragua': 2.5, 'Peru': 4.9900000000000002, 'Philippines': 3.7799999999999998, 'Syrian Arab Republic': 0.17999999999999999, 'Brazil': 5.5199999999999996, 'Ethiopia': 0.8600000000000001, 'Austria': 12.0, 'Djibouti': 0.52000000000000002, 'Burkina Faso': 3.9900000000000002, 'Somalia': 0.0, 'India': 1.6599999999999999, 'Belarus': 7.9799999999999995, 'Haiti': 0.040000000000000001, 'Saint Kitts and Nevis': 4.6500000000000004, 'Bulgaria': 11.43, 'Yemen': 0.14999999999999999, 'Guinea': 0.20999999999999999, 'Tunisia': 0.94999999999999996, 'Kuwait': 0.0, 'Central African Republic': 2.3499999999999996, 'Poland': 7.2999999999999998, 'Panama': 4.6000000000000005, 'Ghana': 1.8599999999999999, 'Cambodia': 0.33000000000000002, 'El Salvador': 1.77, 'Jordan': 0.13, 'Seychelles': 2.23, 'Pakistan': 0.02, 'Gabon': 9.3399999999999999, 'Equatorial Guinea': 6.4900000000000002, 'Portugal': 15.350000000000001, 'Thailand': 3.9199999999999999, 'Italy': 10.899999999999999, 'Greece': 10.15, 'Viet Nam': 0.16, 'Saudi Arabia': 0.14999999999999999, 'Bolivia (Plurinational State of)': 2.9699999999999998, 'Bhutan': 0.31, 'Japan': 7.7400000000000002, 'Suriname': 3.6699999999999999, 'Zambia': 3.3700000000000001, 'Togo': 2.2199999999999998, 'Guatemala': 2.4700000000000002, 'Mozambique': 0.39000000000000001, 'Fiji': 1.9600000000000002, 'Morocco': 0.63, 'Jamaica': 3.0299999999999998, 'Uganda': 7.6200000000000001, 'Croatia': 10.92, 'Qatar': 0.089999999999999997, 'Angola': 1.4099999999999999, 'Mali': 0.66999999999999993, 'Guinea-Bissau': 2.6699999999999999, 'Democratic Republic of the Congo': 1.9199999999999999, 'Solomon Islands': 0.52000000000000002, 'Nepal': 0.029999999999999999, 'Czech Republic': 8.6999999999999993, 'Guyana': 9.9400000000000013, 'Ukraine': 5.3200000000000003, 'Mongolia': 2.5899999999999999, 'Niger': 0.11, 'Swaziland': 6.6799999999999997, 'Comoros': 0.10999999999999999, 'Germany': 14.640000000000001, 'Brunei Darussalam': 2.7800000000000002, 'Iceland': 5.3499999999999996, 'Lesotho': 2.02, 'Kiribati': 0.47999999999999998, \"Cte d'Ivoire\": 2.2000000000000002, 'Mexico': 5.0999999999999996, 'Antigua and Barbuda': 4.6900000000000004, 'Turkey': 0.71999999999999997, 'Costa Rica': 5.3999999999999995, 'Bangladesh': 0.0, 'Finland': 9.4199999999999982, 'Netherlands': 10.030000000000001, 'Senegal': 0.6100000000000001, 'Lebanon': 3.52, 'Belize': 0.0, 'Sweden': 7.4699999999999998, 'Chile': 8.6499999999999986, 'Slovakia': 12.700000000000001, 'Liberia': 5.6100000000000003, 'Myanmar': 0.02, 'China': 2.98, 'Latvia': 1.4399999999999999, 'Cuba': 4.3700000000000001, \"Democratic People's Republic of Korea\": 3.6799999999999997, 'Colombia': 2.4399999999999999, 'Vanuatu': 1.74, 'Samoa': 2.6099999999999999, 'Kyrgyzstan': 4.2799999999999994, 'Australia': 12.09, 'Malta': 5.2400000000000002, 'Iraq': 0.42999999999999999, 'Ecuador': 2.54, 'Micronesia (Federated States of)': 0.0, 'Switzerland': 11.309999999999999, 'Madagascar': 1.1899999999999999, 'Egypt': 0.35000000000000003, 'Romania': 8.4100000000000001, 'Sudan': 0.14999999999999999, 'Honduras': 2.1499999999999999, 'United Kingdom of Great Britain and Northern Ireland': 9.6400000000000006, 'Ireland': 8.75, 'Spain': 8.8300000000000001, 'United States of America': 9.1600000000000001, 'Burundi': 8.1499999999999986, 'United Arab Emirates': 4.4299999999999997, 'Cyprus': 9.2899999999999991, 'Malaysia': 0.68000000000000005, 'New Zealand': 1.8100000000000001, 'Sierra Leone': 4.3800000000000008, 'Gambia': 1.54, 'Oman': 1.03, 'Trinidad and Tobago': 4.6799999999999997, 'Venezuela (Bolivarian Republic of)': 7.8700000000000001, 'Nigeria': 6.7400000000000002, 'Indonesia': 0.070000000000000007, 'Belgium': 11.609999999999999, 'Mauritania': 0.0, 'Iran (Islamic Republic of)': 0.0, 'United Republic of Tanzania': 5.9000000000000004, 'Paraguay': 6.5099999999999998, 'Hungary': 3.4399999999999999, 'Singapore': 1.6100000000000001, 'Slovenia': 12.969999999999999, 'Chad': 0.28000000000000003, 'Zimbabwe': 1.73, \"Lao People's Democratic Republic\": 2.46, 'Benin': 1.3800000000000001, 'Rwanda': 7.5499999999999989, 'Libya': 0.0, 'France': 16.050000000000001, 'Namibia': 0.23999999999999999, 'Afghanistan': 0.0, 'Denmark': 4.1999999999999993}\n"
     ]
    }
   ],
   "source": [
    "totals = {}\n",
    "countries = ['South Africa', 'Malawi', 'Uruguay', 'Sao Tome and Principe', 'Israel', 'Sri Lanka', 'Kenya', 'Russian Federation', 'Cameroon', 'Cabo Verde', 'Congo', 'Canada', 'Argentina', 'Norway', 'Dominican Republic', 'Bahrain', 'Albania', 'Lithuania', 'Papua New Guinea', 'Mauritius', 'Republic of Korea', 'Bahamas', 'Luxembourg', 'Saint Lucia', 'Algeria', 'Eritrea', 'Botswana', 'Nicaragua', 'Peru', 'Philippines', 'Syrian Arab Republic', 'Brazil', 'Ethiopia', 'Austria', 'Djibouti', 'Burkina Faso', 'Somalia', 'India', 'Belarus', 'Haiti', 'Saint Kitts and Nevis', 'Bulgaria', 'Yemen', 'Guinea', 'Tunisia', 'Kuwait', 'Central African Republic', 'Poland', 'Panama', 'Ghana', 'Cambodia', 'El Salvador', 'Jordan', 'Seychelles', 'Pakistan', 'Gabon', 'Equatorial Guinea', 'Portugal', 'Thailand', 'Italy', 'Greece', 'Viet Nam', 'Saudi Arabia', 'Bolivia (Plurinational State of)', 'Bhutan', 'Japan', 'Suriname', 'Zambia', 'Togo', 'Guatemala', 'Mozambique', 'Fiji', 'Morocco', 'Jamaica', 'Uganda', 'Croatia', 'Qatar', 'Angola', 'Mali', 'Guinea-Bissau', 'Democratic Republic of the Congo', 'Solomon Islands', 'Nepal', 'Czech Republic', 'Guyana', 'Ukraine', 'Mongolia', 'Niger', 'Swaziland', 'Comoros', 'Germany', 'Brunei Darussalam', 'Iceland', 'Lesotho', 'Kiribati', \"Cte d'Ivoire\", 'Mexico', 'Antigua and Barbuda', 'Turkey', 'Costa Rica', 'Bangladesh', 'Finland', 'Netherlands', 'Senegal', 'Lebanon', 'Belize', 'Sweden', 'Chile', 'Slovakia', 'Liberia', 'Myanmar', 'China', 'Latvia', 'Cuba', \"Democratic People's Republic of Korea\", 'Colombia', 'Vanuatu', 'Samoa', 'Kyrgyzstan', 'Australia', 'Malta', 'Iraq', 'Ecuador', 'Micronesia (Federated States of)', 'Switzerland', 'Madagascar', 'Egypt', 'Romania', 'Sudan', 'Honduras', 'United Kingdom of Great Britain and Northern Ireland', 'Ireland', 'Spain', 'United States of America', 'Burundi', 'United Arab Emirates', 'Cyprus', 'Malaysia', 'New Zealand', 'Sierra Leone', 'Gambia', 'Oman', 'Trinidad and Tobago', 'Venezuela (Bolivarian Republic of)', 'Nigeria', 'Indonesia', 'Belgium', 'Mauritania', 'Iran (Islamic Republic of)', 'United Republic of Tanzania', 'Paraguay', 'Hungary', 'Singapore', 'Slovenia', 'Chad', 'Zimbabwe', \"Lao People's Democratic Republic\", 'Benin', 'Rwanda', 'Libya', 'France', 'Namibia', 'Afghanistan', 'Denmark']\n",
    "\n",
    "year_found = world_alcohol[:,0]==\"1989\"\n",
    "year = world_alcohol[year_found,:]\n",
    "#print(year)\n",
    "\n",
    "for each in countries:\n",
    "    row_found = (year[:,2]==each)\n",
    "    country_consumption = year[row_found,:]\n",
    "    find_empty = country_consumption[:,4]==\"\"\n",
    "    country_consumption[find_empty,:] = \"0\"\n",
    "    country_consumption = country_consumption[:,4].astype(float)\n",
    "    country_sum = country_consumption.sum()\n",
    "    if ((each in totals)==True):\n",
    "        totals[each] += country_sum\n",
    "    else:\n",
    "        totals[each] = country_sum\n",
    "        \n",
    "print(totals)"
   ]
  },
  {
   "cell_type": "markdown",
   "metadata": {},
   "source": [
    "#### Find the country with the highest total alcohol consumption.\n",
    "#### To do this, you'll need to find the key associated with the highest value in the totals dictionary.\n",
    "#### Follow the process outlined above to find the highest value in totals.\n",
    "#### When you're finished, highest_value will contain the highest average alcohol consumption, and highest_key will contain the country that had the highest per capital alcohol consumption in 1989."
   ]
  },
  {
   "cell_type": "code",
   "execution_count": 16,
   "metadata": {
    "collapsed": false
   },
   "outputs": [
    {
     "name": "stdout",
     "output_type": "stream",
     "text": [
      "France 16.05\n"
     ]
    }
   ],
   "source": [
    "highest_value = 0\n",
    "highest_key = None\n",
    "\n",
    "for each in totals:\n",
    "    if( totals[each] > float(highest_value) ):\n",
    "        highest_value = totals[each]\n",
    "        highest_key = each\n",
    "        \n",
    "print(highest_key,highest_value)"
   ]
  },
  {
   "cell_type": "markdown",
   "metadata": {},
   "source": [
    "# THIS IS THE END 8-)"
   ]
  },
  {
   "cell_type": "code",
   "execution_count": null,
   "metadata": {
    "collapsed": true
   },
   "outputs": [],
   "source": []
  }
 ],
 "metadata": {
  "kernelspec": {
   "display_name": "Python 3",
   "language": "python",
   "name": "python3"
  },
  "language_info": {
   "codemirror_mode": {
    "name": "ipython",
    "version": 3
   },
   "file_extension": ".py",
   "mimetype": "text/x-python",
   "name": "python",
   "nbconvert_exporter": "python",
   "pygments_lexer": "ipython3",
   "version": "3.6.0"
  }
 },
 "nbformat": 4,
 "nbformat_minor": 2
}
